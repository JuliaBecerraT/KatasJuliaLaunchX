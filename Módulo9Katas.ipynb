{
  "cells": [
    {
      "cell_type": "markdown",
      "metadata": {},
      "source": [
        "# Ejercicio: Uso de funciones en Python"
      ]
    },
    {
      "cell_type": "markdown",
      "metadata": {},
      "source": [
        "### Ejercicio 1: Trabajar con argumentos en funciones\n",
        "\n",
        "Los argumentos requeridos en las funciones se utilizan cuando las funciones necesitan que esos argumentos funcionen correctamente. En este ejercicio, construirás un informe de combustible que requiere información de varias ubicaciones de combustible en todo el cohete.\n",
        "\n"
      ]
    },
    {
      "cell_type": "markdown",
      "metadata": {},
      "source": [
        "> **TIP**\n",
        "> Dedica unos minutos para tratar de encontrar una solución. Luego desplázate hacia abajo hasta la parte inferior para ver si has logrado compilar el programa de acuerdo con las especificaciones\n",
        "\n",
        "Comienza por crear una función que necesite tres lecturas de combustible y devuelva un informe:"
      ]
    },
    {
      "cell_type": "code",
      "execution_count": 3,
      "metadata": {},
      "outputs": [],
      "source": [
        "# Función para leer 3 tanques de combustible y muestre el promedio\n",
        "def ImprimirReporte(tanque1,tanque2,tanque3):\n",
        "    promedio = (tanque1+tanque2+tanque3)/3\n",
        "    return(f\"\"\"Informe del tanque:\n",
        "    Promedio = {promedio}\n",
        "    Tanque 1 = {tanque1} %\n",
        "    Tanque 2 = {tanque2} %\n",
        "    Tanque 3 = {tanque3} %\n",
        "    \"\"\")"
      ]
    },
    {
      "cell_type": "markdown",
      "metadata": {},
      "source": [
        "Ahora que hemos definido la función de informes, vamos a comprobarlo. Para esta misión, los tanques no están llenos:"
      ]
    },
    {
      "cell_type": "code",
      "execution_count": 5,
      "metadata": {},
      "outputs": [
        {
          "name": "stdout",
          "output_type": "stream",
          "text": [
            "Informe del tanque:\n",
            "    Promedio = 20.0\n",
            "    Tanque 1 = 10 %\n",
            "    Tanque 2 = 20 %\n",
            "    Tanque 3 = 30 %\n",
            "    \n"
          ]
        }
      ],
      "source": [
        "\n",
        "# Llamamos a la función que genera el reporte print(funcion(tanque1, tanque2, tanque3))\n",
        "print(ImprimirReporte(10,20,30))"
      ]
    },
    {
      "cell_type": "markdown",
      "metadata": {},
      "source": [
        "En lugar de simplemente crear el informe, la función también está calculando el promedio. Mejora la legibilidad extrayendo el cálculo promedio de la función en una nueva función para que el promedio se pueda hacer de forma independiente:"
      ]
    },
    {
      "cell_type": "code",
      "execution_count": 6,
      "metadata": {},
      "outputs": [],
      "source": [
        "# Función promedio \n",
        "def Promedio(tanque1,tanque2,tanque3):\n",
        "    promedio = (tanque1+tanque2+tanque3)/3\n",
        "    return promedio"
      ]
    },
    {
      "cell_type": "markdown",
      "metadata": {},
      "source": [
        "Ahora actualiza la función de informes para llamando a la nueva función del promedio:\n"
      ]
    },
    {
      "cell_type": "code",
      "execution_count": 7,
      "metadata": {},
      "outputs": [
        {
          "name": "stdout",
          "output_type": "stream",
          "text": [
            "Informe del tanque:\n",
            "    Promedio = 40.0\n",
            "    Tanque 1 = 30 %\n",
            "    Tanque 2 = 40 %\n",
            "    Tanque 3 = 50 %\n",
            "    \n"
          ]
        }
      ],
      "source": [
        "# Actualiza la función\n",
        "def ImprimirReporte(tanque1,tanque2,tanque3):\n",
        "    return(f\"\"\"Informe del tanque:\n",
        "    Promedio = {Promedio(tanque1,tanque2,tanque3)}\n",
        "    Tanque 1 = {tanque1} %\n",
        "    Tanque 2 = {tanque2} %\n",
        "    Tanque 3 = {tanque3} %\n",
        "    \"\"\")\n",
        "\n",
        "print(ImprimirReporte(30,40,50))"
      ]
    },
    {
      "cell_type": "markdown",
      "metadata": {},
      "source": [
        "> Recuerda: Lo importante es intentarlo, puedes auxiliarte de internet, libros, etc. El objetivo de una kata es la comprobación de la comprensión de la lección y su aplicación inmediata a la resolución de problemas. Go for it!"
      ]
    },
    {
      "cell_type": "markdown",
      "metadata": {},
      "source": [
        "## Ejercicio 2: Trabajo con argumentos de palabra clave"
      ]
    },
    {
      "cell_type": "markdown",
      "metadata": {},
      "source": [
        "### Ejercicio : Trabajar con argumentos de palabras clave en funciones\n",
        "En este ejercicio, construirás un informe de cohete que requiere varias piezas de información, como el tiempo hasta el destino, el combustible a la izquierda y el nombre del destino. Comienza por crear una función que creará un informe preciso de la misión:"
      ]
    },
    {
      "cell_type": "code",
      "execution_count": 13,
      "metadata": {},
      "outputs": [],
      "source": [
        "# Función con un informe preciso de la misión. Considera hora de prelanzamiento, tiempo de vuelo, destino, tanque \n",
        "# externo y tanque interno\n",
        "\n",
        "def InformeCohete(prelanzamiento,vuelo,destino,tanqueExt,tanqueInter):\n",
        "    return(f\"\"\"Informe de la mision:\n",
        "    Destino de la mision = {destino}\n",
        "    Horas de viaje= {prelanzamiento+vuelo}\n",
        "    Cantidad de los tanques = {tanqueExt+tanqueInter}\n",
        "    \"\"\")"
      ]
    },
    {
      "cell_type": "markdown",
      "metadata": {},
      "source": [
        "La función es problemática porque no se puede adaptar para minutos adicionales o tanques adicionales de combustible. Hazlo más flexible permitiendo cualquier número de pasos basados en el tiempo y cualquier número de tanques. En lugar de usar `*args` y `**kwargs`, aprovecha el hecho de que puedes usar cualquier nombre que desees. Asegurate que la función sea más legible mediante el uso de nombres de variables que están asociados con las entradas, como `*minutes` y `**fuel_reservoirs`:"
      ]
    },
    {
      "cell_type": "code",
      "execution_count": 17,
      "metadata": {},
      "outputs": [
        {
          "name": "stdout",
          "output_type": "stream",
          "text": [
            "Informe de la mision:\n",
            "    Destino de la mision = Luna\n",
            "    Horas de viaje= 130\n",
            "    Cantidad de los tanques = 2300\n",
            "    \n"
          ]
        }
      ],
      "source": [
        "# Escribe tu nueva función de reporte considerando lo anterior\n",
        "def InformeCohete(destino,*tiempo,**tanques):\n",
        "    return(f\"\"\"Informe de la mision:\n",
        "    Destino de la mision = {destino}\n",
        "    Horas de viaje= {sum(tiempo)}\n",
        "    Cantidad de los tanques = {sum(tanques.values())}\n",
        "    \"\"\")\n",
        "\n",
        "print(InformeCohete(\"Luna\",19,21,90,tanque1=800,tanque2=1500))"
      ]
    },
    {
      "cell_type": "markdown",
      "metadata": {},
      "source": [
        "Debido a que el combustible que queda en los tanques es específico de cada tanque, actualiza la función para usar el nombre de cada tanque en el informe:"
      ]
    },
    {
      "cell_type": "code",
      "execution_count": 23,
      "metadata": {},
      "outputs": [
        {
          "name": "stdout",
          "output_type": "stream",
          "text": [
            "Informe de la mision:\n",
            "    Destino de la mision = Luna\n",
            "    Horas de viaje= 130\n",
            "    Cantidad de los tanques = 2300 lts\n",
            "            tanque1 = 800 lts\n",
            "            tanque2 = 1500 lts\n"
          ]
        }
      ],
      "source": [
        "# Escribe tu nueva función\n",
        "\n",
        "def InformeCohete(destino,*tiempo,**tanques):\n",
        "    report=f\"\"\"Informe de la mision:\n",
        "    Destino de la mision = {destino}\n",
        "    Horas de viaje= {sum(tiempo)}\n",
        "    Cantidad de los tanques = {sum(tanques.values())} lts\"\"\"\n",
        "    for tanque,litros in tanques.items():\n",
        "        report+= f\"\"\"\n",
        "            {tanque} = {litros} lts\"\"\"\n",
        "    return report\n",
        "\n",
        "print(InformeCohete(\"Luna\",19,21,90,tanque1=800,tanque2=1500))"
      ]
    }
  ],
  "metadata": {
    "interpreter": {
      "hash": "205095b8b86ea82a021a8fc2ffba2b3bc9f8d0be25999901963b225939f75778"
    },
    "kernelspec": {
      "display_name": "Python 3.8.10 64-bit ('tmp': conda)",
      "name": "python3"
    },
    "language_info": {
      "codemirror_mode": {
        "name": "ipython",
        "version": 3
      },
      "file_extension": ".py",
      "mimetype": "text/x-python",
      "name": "python",
      "nbconvert_exporter": "python",
      "pygments_lexer": "ipython3",
      "version": "3.10.2"
    },
    "nteract": {
      "version": "nteract-front-end@1.0.0"
    },
    "orig_nbformat": 4
  },
  "nbformat": 4,
  "nbformat_minor": 2
}
